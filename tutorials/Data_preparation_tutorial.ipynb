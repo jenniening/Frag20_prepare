{
 "cells": [
  {
   "cell_type": "markdown",
   "metadata": {},
   "source": [
    "** This tutorial includes some important steps of data prepartion **"
   ]
  },
  {
   "cell_type": "code",
   "execution_count": 1,
   "metadata": {
    "ExecuteTime": {
     "end_time": "2020-07-04T03:45:50.423847Z",
     "start_time": "2020-07-04T03:45:49.243050Z"
    }
   },
   "outputs": [],
   "source": [
    "import pandas as pd\n",
    "import torch\n",
    "import rdkit\n",
    "from rdkit import Chem"
   ]
  },
  {
   "cell_type": "markdown",
   "metadata": {},
   "source": [
    "### Molecule Fragmentation"
   ]
  },
  {
   "cell_type": "markdown",
   "metadata": {
    "ExecuteTime": {
     "end_time": "2020-07-04T02:29:24.220142Z",
     "start_time": "2020-07-04T02:29:24.211669Z"
    }
   },
   "source": [
    "In our data preparation, the first step is to cut molecule into fragments. Here, we used Murck Fragmentation method."
   ]
  },
  {
   "cell_type": "code",
   "execution_count": 2,
   "metadata": {
    "ExecuteTime": {
     "end_time": "2020-07-04T03:45:51.062025Z",
     "start_time": "2020-07-04T03:45:50.922656Z"
    }
   },
   "outputs": [],
   "source": [
    "import DataGen\n",
    "from DataGen import fragMol\n",
    "from DataGen.fragMol import fragMol\n",
    "from DataGen.fragMol import get_number"
   ]
  },
  {
   "cell_type": "markdown",
   "metadata": {},
   "source": [
    "#### Generate fragments"
   ]
  },
  {
   "cell_type": "code",
   "execution_count": 3,
   "metadata": {
    "ExecuteTime": {
     "end_time": "2020-07-04T03:45:52.378843Z",
     "start_time": "2020-07-04T03:45:52.333493Z"
    }
   },
   "outputs": [
    {
     "name": "stdout",
     "output_type": "stream",
     "text": [
      "Finish 0\n"
     ]
    }
   ],
   "source": [
    "dir = \"../test/fragmentation/\" # file dir\n",
    "infile = \"test_fragments.csv\" # infile name\n",
    "column_name = \"SMILES\" # column name for SMILES\n",
    "id = \"idx\" # column name for molecule index\n",
    "fragMol(dir, infile, column_name, id, outfile=None, cal_occurrence=True)"
   ]
  },
  {
   "cell_type": "code",
   "execution_count": 4,
   "metadata": {
    "ExecuteTime": {
     "end_time": "2020-07-04T03:45:53.336475Z",
     "start_time": "2020-07-04T03:45:53.297430Z"
    }
   },
   "outputs": [
    {
     "data": {
      "text/html": [
       "<div>\n",
       "<style scoped>\n",
       "    .dataframe tbody tr th:only-of-type {\n",
       "        vertical-align: middle;\n",
       "    }\n",
       "\n",
       "    .dataframe tbody tr th {\n",
       "        vertical-align: top;\n",
       "    }\n",
       "\n",
       "    .dataframe thead th {\n",
       "        text-align: right;\n",
       "    }\n",
       "</style>\n",
       "<table border=\"1\" class=\"dataframe\">\n",
       "  <thead>\n",
       "    <tr style=\"text-align: right;\">\n",
       "      <th></th>\n",
       "      <th>idx</th>\n",
       "      <th>SMILES</th>\n",
       "      <th>core_list</th>\n",
       "      <th>side_list</th>\n",
       "    </tr>\n",
       "  </thead>\n",
       "  <tbody>\n",
       "    <tr>\n",
       "      <th>0</th>\n",
       "      <td>1</td>\n",
       "      <td>c1ccccc1C(=O)OCC</td>\n",
       "      <td>c1ccccc1</td>\n",
       "      <td>['CCOC=O']</td>\n",
       "    </tr>\n",
       "    <tr>\n",
       "      <th>1</th>\n",
       "      <td>2</td>\n",
       "      <td>C1N2C3CC4CC2C13C4</td>\n",
       "      <td>C1C2CC3N4CC3(C2)C14</td>\n",
       "      <td>['']</td>\n",
       "    </tr>\n",
       "    <tr>\n",
       "      <th>2</th>\n",
       "      <td>3</td>\n",
       "      <td>CN1CC1(C)C(F)(F)F</td>\n",
       "      <td>C1CN1</td>\n",
       "      <td>['C', 'C', 'FC(F)F']</td>\n",
       "    </tr>\n",
       "  </tbody>\n",
       "</table>\n",
       "</div>"
      ],
      "text/plain": [
       "   idx             SMILES            core_list             side_list\n",
       "0    1   c1ccccc1C(=O)OCC             c1ccccc1            ['CCOC=O']\n",
       "1    2  C1N2C3CC4CC2C13C4  C1C2CC3N4CC3(C2)C14                  ['']\n",
       "2    3  CN1CC1(C)C(F)(F)F                C1CN1  ['C', 'C', 'FC(F)F']"
      ]
     },
     "execution_count": 4,
     "metadata": {},
     "output_type": "execute_result"
    }
   ],
   "source": [
    "mol_addfrag_file = pd.read_csv(\"../test/fragmentation/test_fragments_addfrags.csv\")\n",
    "mol_addfrag_file"
   ]
  },
  {
   "cell_type": "code",
   "execution_count": 5,
   "metadata": {
    "ExecuteTime": {
     "end_time": "2020-07-04T03:45:54.362731Z",
     "start_time": "2020-07-04T03:45:54.344174Z"
    }
   },
   "outputs": [
    {
     "data": {
      "text/html": [
       "<div>\n",
       "<style scoped>\n",
       "    .dataframe tbody tr th:only-of-type {\n",
       "        vertical-align: middle;\n",
       "    }\n",
       "\n",
       "    .dataframe tbody tr th {\n",
       "        vertical-align: top;\n",
       "    }\n",
       "\n",
       "    .dataframe thead th {\n",
       "        text-align: right;\n",
       "    }\n",
       "</style>\n",
       "<table border=\"1\" class=\"dataframe\">\n",
       "  <thead>\n",
       "    <tr style=\"text-align: right;\">\n",
       "      <th></th>\n",
       "      <th>mol_id</th>\n",
       "      <th>frags_id</th>\n",
       "      <th>frags_SMILES</th>\n",
       "    </tr>\n",
       "  </thead>\n",
       "  <tbody>\n",
       "    <tr>\n",
       "      <th>0</th>\n",
       "      <td>1</td>\n",
       "      <td>0</td>\n",
       "      <td>CCOC=O</td>\n",
       "    </tr>\n",
       "    <tr>\n",
       "      <th>1</th>\n",
       "      <td>1</td>\n",
       "      <td>1</td>\n",
       "      <td>c1ccccc1</td>\n",
       "    </tr>\n",
       "    <tr>\n",
       "      <th>2</th>\n",
       "      <td>2</td>\n",
       "      <td>2</td>\n",
       "      <td>C1C2CC3N4CC3(C2)C14</td>\n",
       "    </tr>\n",
       "    <tr>\n",
       "      <th>3</th>\n",
       "      <td>3</td>\n",
       "      <td>3</td>\n",
       "      <td>C1CN1</td>\n",
       "    </tr>\n",
       "    <tr>\n",
       "      <th>4</th>\n",
       "      <td>3</td>\n",
       "      <td>4</td>\n",
       "      <td>C</td>\n",
       "    </tr>\n",
       "    <tr>\n",
       "      <th>5</th>\n",
       "      <td>3</td>\n",
       "      <td>5</td>\n",
       "      <td>FC(F)F</td>\n",
       "    </tr>\n",
       "  </tbody>\n",
       "</table>\n",
       "</div>"
      ],
      "text/plain": [
       "   mol_id  frags_id         frags_SMILES\n",
       "0       1         0               CCOC=O\n",
       "1       1         1             c1ccccc1\n",
       "2       2         2  C1C2CC3N4CC3(C2)C14\n",
       "3       3         3                C1CN1\n",
       "4       3         4                    C\n",
       "5       3         5               FC(F)F"
      ]
     },
     "execution_count": 5,
     "metadata": {},
     "output_type": "execute_result"
    }
   ],
   "source": [
    "frag_file = pd.read_csv(\"../test/fragmentation/fragments.csv\")\n",
    "frag_file"
   ]
  },
  {
   "cell_type": "markdown",
   "metadata": {},
   "source": [
    "mol_id is the molecule id that corresponding fragment first appears"
   ]
  },
  {
   "cell_type": "markdown",
   "metadata": {},
   "source": [
    "#### Generate frequency for fragments file"
   ]
  },
  {
   "cell_type": "code",
   "execution_count": 6,
   "metadata": {
    "ExecuteTime": {
     "end_time": "2020-07-04T03:45:56.576003Z",
     "start_time": "2020-07-04T03:45:56.549239Z"
    }
   },
   "outputs": [
    {
     "name": "stdout",
     "output_type": "stream",
     "text": [
      "Finish 0\n",
      "{'c1ccccc1': 1, 'CCOC=O': 1, 'C1C2CC3N4CC3(C2)C14': 1, 'C1CN1': 1, 'C': 2, 'FC(F)F': 1}\n",
      "{'CCOC=O': 1, 'c1ccccc1': 1, 'C1C2CC3N4CC3(C2)C14': 1, 'C1CN1': 1, 'C': 1, 'FC(F)F': 1}\n"
     ]
    }
   ],
   "source": [
    "infile_frag = \"../test/fragmentation/test_fragments_addfrags.csv\"\n",
    "absolute_number, molecule_number = get_number(infile_frag, core_column=\"core_list\", side_column=\"side_list\")\n",
    "print(absolute_number) # the number of fragments appear in the data\n",
    "print(molecule_number) # the number of molecules that have certain fragments"
   ]
  },
  {
   "cell_type": "markdown",
   "metadata": {},
   "source": [
    "### Generate EFGs"
   ]
  },
  {
   "cell_type": "markdown",
   "metadata": {
    "ExecuteTime": {
     "end_time": "2020-07-04T03:08:50.830837Z",
     "start_time": "2020-07-04T03:08:50.820580Z"
    }
   },
   "source": [
    "EFG library has been generated using our in-house package."
   ]
  },
  {
   "cell_type": "code",
   "execution_count": 7,
   "metadata": {
    "ExecuteTime": {
     "end_time": "2020-07-04T03:45:58.108711Z",
     "start_time": "2020-07-04T03:45:58.076961Z"
    }
   },
   "outputs": [],
   "source": [
    "from DataGen import genEFGs\n",
    "from DataGen.genEFGs import get_EFGs_dic\n",
    "from DataGen.genEFGs import get_EFGs"
   ]
  },
  {
   "cell_type": "markdown",
   "metadata": {},
   "source": [
    "#### Get EFGs dic for molecules"
   ]
  },
  {
   "cell_type": "code",
   "execution_count": 8,
   "metadata": {
    "ExecuteTime": {
     "end_time": "2020-07-04T03:45:59.466733Z",
     "start_time": "2020-07-04T03:45:59.457762Z"
    }
   },
   "outputs": [
    {
     "name": "stdout",
     "output_type": "stream",
     "text": [
      "Help on function get_EFGs_dic in module DataGen.genEFGs:\n",
      "\n",
      "get_EFGs_dic(dataset, intype, isomeric=True)\n",
      "    Get EFGs_dic, which uses EFGs as keys, and list of index of mols that have this EFG as value\n",
      "\n"
     ]
    }
   ],
   "source": [
    "help(get_EFGs_dic)"
   ]
  },
  {
   "cell_type": "code",
   "execution_count": 9,
   "metadata": {
    "ExecuteTime": {
     "end_time": "2020-07-04T03:46:00.555581Z",
     "start_time": "2020-07-04T03:46:00.522622Z"
    }
   },
   "outputs": [
    {
     "name": "stdout",
     "output_type": "stream",
     "text": [
      "0\n"
     ]
    }
   ],
   "source": [
    "dataset = list(pd.read_csv(\"../test/fragmentation/test_fragments.csv\")[\"SMILES\"])\n",
    "intype = \"smiles\"\n",
    "isomeric = False # only for 3D input\n",
    "EFGs_dic = get_EFGs_dic(dataset, intype, isomeric)"
   ]
  },
  {
   "cell_type": "code",
   "execution_count": 10,
   "metadata": {
    "ExecuteTime": {
     "end_time": "2020-07-04T03:46:01.048110Z",
     "start_time": "2020-07-04T03:46:01.023078Z"
    }
   },
   "outputs": [
    {
     "data": {
      "text/plain": [
       "{'O=CO': [0],\n",
       " 'c1ccccc1': [0],\n",
       " 'CC': [0],\n",
       " 'C040': [1, 2],\n",
       " 'N': [1],\n",
       " 'C030': [1],\n",
       " 'C020': [1],\n",
       " 'C1CN1': [2],\n",
       " 'F': [2],\n",
       " 'C010': [2]}"
      ]
     },
     "execution_count": 10,
     "metadata": {},
     "output_type": "execute_result"
    }
   ],
   "source": [
    "EFGs_dic # key is the EFG, value is the list of molecule index that have corresponding EFG"
   ]
  },
  {
   "cell_type": "code",
   "execution_count": 11,
   "metadata": {
    "ExecuteTime": {
     "end_time": "2020-07-04T03:46:02.023213Z",
     "start_time": "2020-07-04T03:46:02.005884Z"
    }
   },
   "outputs": [
    {
     "data": {
      "text/plain": [
       "{'O=CO': 1,\n",
       " 'c1ccccc1': 1,\n",
       " 'CC': 1,\n",
       " 'C040': 2,\n",
       " 'N': 1,\n",
       " 'C030': 1,\n",
       " 'C020': 1,\n",
       " 'C1CN1': 1,\n",
       " 'F': 1,\n",
       " 'C010': 1}"
      ]
     },
     "execution_count": 11,
     "metadata": {},
     "output_type": "execute_result"
    }
   ],
   "source": [
    "### Get EFGs dic with frequency\n",
    "EFGs_dic_frequency = {key:len(value) for key, value in EFGs_dic.items()}\n",
    "EFGs_dic_frequency "
   ]
  },
  {
   "cell_type": "code",
   "execution_count": 12,
   "metadata": {
    "ExecuteTime": {
     "end_time": "2020-07-04T03:46:02.458154Z",
     "start_time": "2020-07-04T03:46:02.443987Z"
    }
   },
   "outputs": [],
   "source": [
    "torch.save(EFGs_dic_frequency, \"../test/fragmentation/EFG_lib.pt\")"
   ]
  },
  {
   "cell_type": "code",
   "execution_count": 13,
   "metadata": {
    "ExecuteTime": {
     "end_time": "2020-07-04T03:46:03.523437Z",
     "start_time": "2020-07-04T03:46:03.492517Z"
    }
   },
   "outputs": [
    {
     "data": {
      "text/plain": [
       "{'C040': 2}"
      ]
     },
     "execution_count": 13,
     "metadata": {},
     "output_type": "execute_result"
    }
   ],
   "source": [
    "### Use cutoff to only keep Top n% of EFGs. Here, large EFG can be cut into small EFG untill converge\n",
    "import EFGs\n",
    "from EFGs import cleavage\n",
    "cutoff = 0.9\n",
    "cleavage(EFGs_dic_frequency, alpha=cutoff, isomericSmiles=False)\n",
    "EFGs_dic_frequency"
   ]
  },
  {
   "cell_type": "markdown",
   "metadata": {},
   "source": [
    "#### Get molecule EFGs based on generated EFG lib"
   ]
  },
  {
   "cell_type": "code",
   "execution_count": 14,
   "metadata": {
    "ExecuteTime": {
     "end_time": "2020-07-04T03:46:04.817836Z",
     "start_time": "2020-07-04T03:46:04.811797Z"
    }
   },
   "outputs": [],
   "source": [
    "mol = Chem.MolFromSmiles(dataset[0])"
   ]
  },
  {
   "cell_type": "code",
   "execution_count": 15,
   "metadata": {
    "ExecuteTime": {
     "end_time": "2020-07-04T03:46:05.194248Z",
     "start_time": "2020-07-04T03:46:05.173483Z"
    }
   },
   "outputs": [
    {
     "data": {
      "text/plain": [
       "(['O=CO', 'c1ccccc1'], ['CC'])"
      ]
     },
     "execution_count": 15,
     "metadata": {},
     "output_type": "execute_result"
    }
   ],
   "source": [
    "import EFGs\n",
    "from EFGs import mol2frag\n",
    "vocab = list(torch.load(\"../test/fragmentation/EFG_lib.pt\")) # get the EFG lib\n",
    "a,b = mol2frag(mol, vocabulary=vocab, toEnd=True, extra_included=True) # generate EFGs for molecule based on given EFG lib\n",
    "a,b"
   ]
  },
  {
   "cell_type": "markdown",
   "metadata": {},
   "source": [
    "### Molecule Selection"
   ]
  },
  {
   "cell_type": "markdown",
   "metadata": {
    "ExecuteTime": {
     "end_time": "2020-07-04T03:30:37.466772Z",
     "start_time": "2020-07-04T03:30:37.458851Z"
    }
   },
   "source": [
    "Selecting molecules using different selection method"
   ]
  },
  {
   "cell_type": "code",
   "execution_count": 16,
   "metadata": {
    "ExecuteTime": {
     "end_time": "2020-07-04T03:46:07.529920Z",
     "start_time": "2020-07-04T03:46:07.513050Z"
    }
   },
   "outputs": [],
   "source": [
    "from DataGen import selectMol\n",
    "from DataGen.selectMol import FreqEFGSample"
   ]
  },
  {
   "cell_type": "markdown",
   "metadata": {},
   "source": [
    "#### Selecting molecules based on frequency and EFG lib"
   ]
  },
  {
   "cell_type": "code",
   "execution_count": 17,
   "metadata": {
    "ExecuteTime": {
     "end_time": "2020-07-04T03:46:09.094936Z",
     "start_time": "2020-07-04T03:46:09.088211Z"
    }
   },
   "outputs": [],
   "source": [
    "EFG_dic = {\"C\":[0,2,3], \"N\": [1,2], \"F\":[4,5,6]}\n",
    "Freq_list = [20,1,15,2,5,10,6]\n",
    "### sample molecules based on cutoff and iteration\n",
    "freq_sampled = FreqEFGSample(input_dict=EFG_dic, frequency_list=Freq_list, cutoff=1, iterations=1)"
   ]
  },
  {
   "cell_type": "code",
   "execution_count": 18,
   "metadata": {
    "ExecuteTime": {
     "end_time": "2020-07-04T03:46:09.479784Z",
     "start_time": "2020-07-04T03:46:09.462909Z"
    }
   },
   "outputs": [
    {
     "name": "stdout",
     "output_type": "stream",
     "text": [
      "iters:1\n",
      "number of sampled index:0\n"
     ]
    },
    {
     "data": {
      "text/plain": [
       "[0, 5, 2]"
      ]
     },
     "execution_count": 18,
     "metadata": {},
     "output_type": "execute_result"
    }
   ],
   "source": [
    "freq_sampled.sampled_index"
   ]
  },
  {
   "cell_type": "code",
   "execution_count": 19,
   "metadata": {
    "ExecuteTime": {
     "end_time": "2020-07-04T03:46:10.835683Z",
     "start_time": "2020-07-04T03:46:10.828193Z"
    }
   },
   "outputs": [],
   "source": [
    "EFG_dic = {\"C\":[0,2,3], \"N\": [1,2], \"F\":[4,5,6]}\n",
    "Freq_list = [20,1,15,2,5,10,6]\n",
    "### sample molecules based on given numbers\n",
    "freq_sampled = FreqEFGSample(input_dict=EFG_dic, frequency_list=Freq_list, cutoff=1, numbers=3)"
   ]
  },
  {
   "cell_type": "code",
   "execution_count": 20,
   "metadata": {
    "ExecuteTime": {
     "end_time": "2020-07-04T03:46:11.170418Z",
     "start_time": "2020-07-04T03:46:11.158567Z"
    }
   },
   "outputs": [
    {
     "name": "stdout",
     "output_type": "stream",
     "text": [
      "iters:1\n",
      "number of sampled index:0\n"
     ]
    },
    {
     "data": {
      "text/plain": [
       "[0, 5, 2]"
      ]
     },
     "execution_count": 20,
     "metadata": {},
     "output_type": "execute_result"
    }
   ],
   "source": [
    "freq_sampled.sampled_index"
   ]
  }
 ],
 "metadata": {
  "kernelspec": {
   "display_name": "rdkit",
   "language": "python",
   "name": "rdkit"
  },
  "toc": {
   "base_numbering": 1,
   "nav_menu": {},
   "number_sections": true,
   "sideBar": true,
   "skip_h1_title": false,
   "title_cell": "Table of Contents",
   "title_sidebar": "Contents",
   "toc_cell": false,
   "toc_position": {},
   "toc_section_display": true,
   "toc_window_display": true
  },
  "varInspector": {
   "cols": {
    "lenName": 16,
    "lenType": 16,
    "lenVar": 40
   },
   "kernels_config": {
    "python": {
     "delete_cmd_postfix": "",
     "delete_cmd_prefix": "del ",
     "library": "var_list.py",
     "varRefreshCmd": "print(var_dic_list())"
    },
    "r": {
     "delete_cmd_postfix": ") ",
     "delete_cmd_prefix": "rm(",
     "library": "var_list.r",
     "varRefreshCmd": "cat(var_dic_list()) "
    }
   },
   "types_to_exclude": [
    "module",
    "function",
    "builtin_function_or_method",
    "instance",
    "_Feature"
   ],
   "window_display": false
  }
 },
 "nbformat": 4,
 "nbformat_minor": 2
}
