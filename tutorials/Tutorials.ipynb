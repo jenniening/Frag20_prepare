{
 "cells": [
  {
   "cell_type": "code",
   "execution_count": 1,
   "metadata": {
    "ExecuteTime": {
     "end_time": "2019-11-22T01:19:17.071108Z",
     "start_time": "2019-11-22T01:19:16.326293Z"
    }
   },
   "outputs": [
    {
     "data": {
      "application/vnd.jupyter.widget-view+json": {
       "model_id": "0c393505b4954f489994409ef7fcfe9b",
       "version_major": 2,
       "version_minor": 0
      },
      "text/plain": [
       "_ColormakerRegistry()"
      ]
     },
     "metadata": {},
     "output_type": "display_data"
    }
   ],
   "source": [
    "import numpy as np\n",
    "import rdkit\n",
    "from rdkit import Chem\n",
    "from rdkit.Chem import AllChem\n",
    "from rdkit.Chem import PandasTools\n",
    "import torch\n",
    "import pandas as pd\n",
    "import os\n",
    "import importlib\n",
    "import nglview"
   ]
  },
  {
   "cell_type": "code",
   "execution_count": 2,
   "metadata": {
    "ExecuteTime": {
     "end_time": "2019-11-22T01:04:25.399722Z",
     "start_time": "2019-11-22T01:04:25.373038Z"
    }
   },
   "outputs": [],
   "source": [
    "%load_ext autoreload\n",
    "%autoreload 2"
   ]
  },
  {
   "cell_type": "markdown",
   "metadata": {},
   "source": [
    "###  Conformation Generation"
   ]
  },
  {
   "cell_type": "code",
   "execution_count": 2,
   "metadata": {
    "ExecuteTime": {
     "end_time": "2019-11-21T22:12:41.755966Z",
     "start_time": "2019-11-21T22:12:41.745160Z"
    }
   },
   "outputs": [],
   "source": [
    "import DataGen\n",
    "from DataGen import genconfs\n",
    "from DataGen import util\n",
    "from DataGen.genconfs import runGenerator\n",
    "from DataGen.util import get_RMSD"
   ]
  },
  {
   "cell_type": "markdown",
   "metadata": {},
   "source": [
    "The main function here is runGenerator"
   ]
  },
  {
   "cell_type": "code",
   "execution_count": 7,
   "metadata": {
    "ExecuteTime": {
     "end_time": "2019-11-21T18:54:01.324948Z",
     "start_time": "2019-11-21T18:54:01.302000Z"
    }
   },
   "outputs": [
    {
     "name": "stdout",
     "output_type": "stream",
     "text": [
      "Help on function runGenerator in module DataGen.genconfs:\n",
      "\n",
      "runGenerator(index_list, smiles_list, source_data_name, datadir, structure_dir=None, numConfs=300, clusterMethod='RMSD', clusterThreshold=0.2)\n",
      "    Generate conformation as sdf for all smiles in input\n",
      "    index_list: the list of initial indexes from source data \n",
      "    smiles_list: the rdkit smiles generated using initial source data SMILES\n",
      "    source_data_name: the source data name, such as ccdc, zinc, and pubchem, which is used to record the initial index in that source data\n",
      "    datadir: directory for outputfile\n",
      "    structure_dir: the directory used to find the 3D structure file, if it is None, the numConfs should not be None\n",
      "    numConfs: the number of conformations generated before clustering, defaults to 300; if numConfs=None, we conducted local MMFF minimization for structure\n",
      "    clusterMethod: the distance calculation method used in clustering, defaults to RMSD\n",
      "    clusterThreshold: the clustering threshold, defaults to 0.2\n",
      "    notice: we only conducted one conformation generation for each SMILES, but when numConfs=None, we conducted local optimization for each structure\n",
      "    return:saved *_confs.sdf for conformation generation or *_min.sdf for local minimization with MMFF; Failed_list\n",
      "\n"
     ]
    }
   ],
   "source": [
    "help(genconfs.runGenerator)"
   ]
  },
  {
   "cell_type": "markdown",
   "metadata": {},
   "source": [
    "For variables such as clusterMethod and clusterThreshold,, we can always use default values"
   ]
  },
  {
   "cell_type": "markdown",
   "metadata": {},
   "source": [
    "#### Conformation generation for smiles with no structure reference"
   ]
  },
  {
   "cell_type": "code",
   "execution_count": 8,
   "metadata": {
    "ExecuteTime": {
     "end_time": "2019-11-21T18:54:20.061583Z",
     "start_time": "2019-11-21T18:54:07.751894Z"
    }
   },
   "outputs": [
    {
     "name": "stdout",
     "output_type": "stream",
     "text": [
      "mkdir: ../test/confs_smiles: File exists\n",
      "0 COc1ccc(C2OC(=O)C(C)C2(C)CC(C)C)cc1\n",
      "The total number of conformers after clustring: 254\n"
     ]
    }
   ],
   "source": [
    "### I use the first molecule in Index_ccdc_20_overlapwithmol20_removeempty.csv ###\n",
    "index_list = [\"33\"]\n",
    "smiles_list = [\"COc1ccc(C2OC(=O)C(C)C2(C)CC(C)C)cc1\"]\n",
    "source_data_name = \"ccdc\"\n",
    "structure_dir = None\n",
    "numConfs = 300\n",
    "%mkdir \"../test/confs_smiles\"\n",
    "datadir = \"../test/confs_smiles\"\n",
    "Failed_list = genconfs.runGenerator(index_list, smiles_list, source_data_name, datadir, structure_dir, numConfs)"
   ]
  },
  {
   "cell_type": "code",
   "execution_count": 9,
   "metadata": {
    "ExecuteTime": {
     "end_time": "2019-11-21T18:54:21.219676Z",
     "start_time": "2019-11-21T18:54:21.189689Z"
    }
   },
   "outputs": [
    {
     "data": {
      "text/plain": [
       "[]"
      ]
     },
     "execution_count": 9,
     "metadata": {},
     "output_type": "execute_result"
    }
   ],
   "source": [
    "Failed_list"
   ]
  },
  {
   "cell_type": "markdown",
   "metadata": {},
   "source": [
    "After conformation genertaion, the generated conformation(254 conformations in this case) has been saved in a 33_confors.sdf in ../test/confs_smiles. <br>The return of this function is the list for all failed cases (idx of index_list), there it's empty since no failed case."
   ]
  },
  {
   "cell_type": "markdown",
   "metadata": {},
   "source": [
    "#### Conformation generation for smiles with structure reference"
   ]
  },
  {
   "cell_type": "markdown",
   "metadata": {},
   "source": [
    "This time we use reference structure of this SMILES from ccdc dataset.<br>\n",
    "The reason to do this is that we want to make sure all newly generated conformations have right protonation state.<br>\n",
    "When we have crystal structure, we should use crystal structure as reference to generate conformations"
   ]
  },
  {
   "cell_type": "code",
   "execution_count": 8,
   "metadata": {
    "ExecuteTime": {
     "end_time": "2019-11-21T18:32:34.653039Z",
     "start_time": "2019-11-21T18:32:22.523852Z"
    }
   },
   "outputs": [
    {
     "name": "stdout",
     "output_type": "stream",
     "text": [
      "0 COc1ccc(C2OC(=O)C(C)C2(C)CC(C)C)cc1\n",
      "Use 3D Structure as Reference: 33.sdf\n",
      "The total number of conformers after clustring: 248\n"
     ]
    }
   ],
   "source": [
    "index_list = [\"33\"]\n",
    "smiles_list = [\"COc1ccc(C2OC(=O)C(C)C2(C)CC(C)C)cc1\"]\n",
    "source_data_name = \"ccdc\"\n",
    "structure_dir = \"../test/reference_structure\"\n",
    "numConfs = 300\n",
    "%mkdir \"../test/confs_smiles_withreference\"\n",
    "datadir = \"../test/confs_smiles_withreference\"\n",
    "Failed_list = genconfs.runGenerator(index_list, smiles_list, source_data_name, datadir, structure_dir, numConfs)"
   ]
  },
  {
   "cell_type": "markdown",
   "metadata": {},
   "source": [
    "#### Local optimization for reference structure"
   ]
  },
  {
   "cell_type": "markdown",
   "metadata": {},
   "source": [
    "To conduct the local minimization, we don't need conformation generation, and hence the numConfs should be 0 "
   ]
  },
  {
   "cell_type": "code",
   "execution_count": 32,
   "metadata": {
    "ExecuteTime": {
     "end_time": "2019-11-21T19:05:30.215941Z",
     "start_time": "2019-11-21T19:05:30.033744Z"
    }
   },
   "outputs": [
    {
     "name": "stdout",
     "output_type": "stream",
     "text": [
      "0 COc1ccc(C2OC(=O)C(C)C2(C)CC(C)C)cc1\n",
      "Use 3D Structure as Reference: 33.sdf\n",
      "Finish Local Minimization with MMFF\n"
     ]
    }
   ],
   "source": [
    "index_list = [\"33\"]\n",
    "smiles_list = [\"COc1ccc(C2OC(=O)C(C)C2(C)CC(C)C)cc1\"]\n",
    "source_data_name = \"ccdc\"\n",
    "structure_dir = \"../test/reference_structure\"\n",
    "numConfs = 0\n",
    "%mkdir \"../test/confs_local_minimization\"\n",
    "datadir = \"../test/confs_local_minimization\"\n",
    "Failed_list = genconfs.runGenerator(index_list, smiles_list, source_data_name, datadir, structure_dir, numConfs)"
   ]
  },
  {
   "cell_type": "markdown",
   "metadata": {},
   "source": [
    "#### Check generated conformations"
   ]
  },
  {
   "cell_type": "code",
   "execution_count": 3,
   "metadata": {
    "ExecuteTime": {
     "end_time": "2019-11-21T22:12:44.935441Z",
     "start_time": "2019-11-21T22:12:44.626105Z"
    }
   },
   "outputs": [
    {
     "data": {
      "text/html": [
       "<div>\n",
       "<style scoped>\n",
       "    .dataframe tbody tr th:only-of-type {\n",
       "        vertical-align: middle;\n",
       "    }\n",
       "\n",
       "    .dataframe tbody tr th {\n",
       "        vertical-align: top;\n",
       "    }\n",
       "\n",
       "    .dataframe thead th {\n",
       "        text-align: right;\n",
       "    }\n",
       "</style>\n",
       "<table border=\"1\" class=\"dataframe\">\n",
       "  <thead>\n",
       "    <tr style=\"text-align: right;\">\n",
       "      <th></th>\n",
       "      <th>energy_abs</th>\n",
       "      <th>SMILES</th>\n",
       "      <th>cluster_no</th>\n",
       "      <th>ccdc_id</th>\n",
       "      <th>initial_conformation_id</th>\n",
       "      <th>minimize_method</th>\n",
       "      <th>ID</th>\n",
       "      <th>ROMol</th>\n",
       "    </tr>\n",
       "  </thead>\n",
       "  <tbody>\n",
       "    <tr>\n",
       "      <td>0</td>\n",
       "      <td>44.5737028374007</td>\n",
       "      <td>COc1ccc(C2OC(=O)C(C)C2(C)CC(C)C)cc1</td>\n",
       "      <td>1</td>\n",
       "      <td>33</td>\n",
       "      <td>283</td>\n",
       "      <td>MMFF</td>\n",
       "      <td></td>\n",
       "      <td>&lt;img src=\"data:image/png;base64,iVBORw0KGgoAAA...</td>\n",
       "    </tr>\n",
       "    <tr>\n",
       "      <td>1</td>\n",
       "      <td>44.82607464748033</td>\n",
       "      <td>COc1ccc(C2OC(=O)C(C)C2(C)CC(C)C)cc1</td>\n",
       "      <td>2</td>\n",
       "      <td>33</td>\n",
       "      <td>258</td>\n",
       "      <td>MMFF</td>\n",
       "      <td></td>\n",
       "      <td>&lt;img src=\"data:image/png;base64,iVBORw0KGgoAAA...</td>\n",
       "    </tr>\n",
       "    <tr>\n",
       "      <td>2</td>\n",
       "      <td>46.0972404834002</td>\n",
       "      <td>COc1ccc(C2OC(=O)C(C)C2(C)CC(C)C)cc1</td>\n",
       "      <td>3</td>\n",
       "      <td>33</td>\n",
       "      <td>235</td>\n",
       "      <td>MMFF</td>\n",
       "      <td></td>\n",
       "      <td>&lt;img src=\"data:image/png;base64,iVBORw0KGgoAAA...</td>\n",
       "    </tr>\n",
       "    <tr>\n",
       "      <td>3</td>\n",
       "      <td>44.54444482507678</td>\n",
       "      <td>COc1ccc(C2OC(=O)C(C)C2(C)CC(C)C)cc1</td>\n",
       "      <td>4</td>\n",
       "      <td>33</td>\n",
       "      <td>214</td>\n",
       "      <td>MMFF</td>\n",
       "      <td></td>\n",
       "      <td>&lt;img src=\"data:image/png;base64,iVBORw0KGgoAAA...</td>\n",
       "    </tr>\n",
       "    <tr>\n",
       "      <td>4</td>\n",
       "      <td>43.55545027087747</td>\n",
       "      <td>COc1ccc(C2OC(=O)C(C)C2(C)CC(C)C)cc1</td>\n",
       "      <td>5</td>\n",
       "      <td>33</td>\n",
       "      <td>154</td>\n",
       "      <td>MMFF</td>\n",
       "      <td></td>\n",
       "      <td>&lt;img src=\"data:image/png;base64,iVBORw0KGgoAAA...</td>\n",
       "    </tr>\n",
       "  </tbody>\n",
       "</table>\n",
       "</div>"
      ],
      "text/plain": [
       "          energy_abs                               SMILES cluster_no ccdc_id  \\\n",
       "0   44.5737028374007  COc1ccc(C2OC(=O)C(C)C2(C)CC(C)C)cc1          1      33   \n",
       "1  44.82607464748033  COc1ccc(C2OC(=O)C(C)C2(C)CC(C)C)cc1          2      33   \n",
       "2   46.0972404834002  COc1ccc(C2OC(=O)C(C)C2(C)CC(C)C)cc1          3      33   \n",
       "3  44.54444482507678  COc1ccc(C2OC(=O)C(C)C2(C)CC(C)C)cc1          4      33   \n",
       "4  43.55545027087747  COc1ccc(C2OC(=O)C(C)C2(C)CC(C)C)cc1          5      33   \n",
       "\n",
       "  initial_conformation_id minimize_method ID  \\\n",
       "0                     283            MMFF      \n",
       "1                     258            MMFF      \n",
       "2                     235            MMFF      \n",
       "3                     214            MMFF      \n",
       "4                     154            MMFF      \n",
       "\n",
       "                                               ROMol  \n",
       "0  <img src=\"data:image/png;base64,iVBORw0KGgoAAA...  \n",
       "1  <img src=\"data:image/png;base64,iVBORw0KGgoAAA...  \n",
       "2  <img src=\"data:image/png;base64,iVBORw0KGgoAAA...  \n",
       "3  <img src=\"data:image/png;base64,iVBORw0KGgoAAA...  \n",
       "4  <img src=\"data:image/png;base64,iVBORw0KGgoAAA...  "
      ]
     },
     "execution_count": 3,
     "metadata": {},
     "output_type": "execute_result"
    },
    {
     "data": {
      "text/html": [
       "<div>\n",
       "<style scoped>\n",
       "    .dataframe tbody tr th:only-of-type {\n",
       "        vertical-align: middle;\n",
       "    }\n",
       "\n",
       "    .dataframe tbody tr th {\n",
       "        vertical-align: top;\n",
       "    }\n",
       "\n",
       "    .dataframe thead th {\n",
       "        text-align: right;\n",
       "    }\n",
       "</style>\n",
       "<table border=\"1\" class=\"dataframe\">\n",
       "  <thead>\n",
       "    <tr style=\"text-align: right;\">\n",
       "      <th></th>\n",
       "      <th>energy_abs</th>\n",
       "      <th>SMILES</th>\n",
       "      <th>cluster_no</th>\n",
       "      <th>ccdc_id</th>\n",
       "      <th>initial_conformation_id</th>\n",
       "      <th>minimize_method</th>\n",
       "      <th>ID</th>\n",
       "      <th>ROMol</th>\n",
       "    </tr>\n",
       "  </thead>\n",
       "  <tbody>\n",
       "    <tr>\n",
       "      <td>0</td>\n",
       "      <td>44.925354442201694</td>\n",
       "      <td>COc1ccc(C2OC(=O)C(C)C2(C)CC(C)C)cc1</td>\n",
       "      <td>1</td>\n",
       "      <td>33</td>\n",
       "      <td>260</td>\n",
       "      <td>MMFF</td>\n",
       "      <td>ABABAH</td>\n",
       "      <td>&lt;img src=\"data:image/png;base64,iVBORw0KGgoAAA...</td>\n",
       "    </tr>\n",
       "    <tr>\n",
       "      <td>1</td>\n",
       "      <td>43.905396003013806</td>\n",
       "      <td>COc1ccc(C2OC(=O)C(C)C2(C)CC(C)C)cc1</td>\n",
       "      <td>2</td>\n",
       "      <td>33</td>\n",
       "      <td>254</td>\n",
       "      <td>MMFF</td>\n",
       "      <td>ABABAH</td>\n",
       "      <td>&lt;img src=\"data:image/png;base64,iVBORw0KGgoAAA...</td>\n",
       "    </tr>\n",
       "    <tr>\n",
       "      <td>2</td>\n",
       "      <td>44.835954486888966</td>\n",
       "      <td>COc1ccc(C2OC(=O)C(C)C2(C)CC(C)C)cc1</td>\n",
       "      <td>3</td>\n",
       "      <td>33</td>\n",
       "      <td>191</td>\n",
       "      <td>MMFF</td>\n",
       "      <td>ABABAH</td>\n",
       "      <td>&lt;img src=\"data:image/png;base64,iVBORw0KGgoAAA...</td>\n",
       "    </tr>\n",
       "    <tr>\n",
       "      <td>3</td>\n",
       "      <td>44.16119342798035</td>\n",
       "      <td>COc1ccc(C2OC(=O)C(C)C2(C)CC(C)C)cc1</td>\n",
       "      <td>4</td>\n",
       "      <td>33</td>\n",
       "      <td>278</td>\n",
       "      <td>MMFF</td>\n",
       "      <td>ABABAH</td>\n",
       "      <td>&lt;img src=\"data:image/png;base64,iVBORw0KGgoAAA...</td>\n",
       "    </tr>\n",
       "    <tr>\n",
       "      <td>4</td>\n",
       "      <td>50.24077902861522</td>\n",
       "      <td>COc1ccc(C2OC(=O)C(C)C2(C)CC(C)C)cc1</td>\n",
       "      <td>5</td>\n",
       "      <td>33</td>\n",
       "      <td>274</td>\n",
       "      <td>MMFF</td>\n",
       "      <td>ABABAH</td>\n",
       "      <td>&lt;img src=\"data:image/png;base64,iVBORw0KGgoAAA...</td>\n",
       "    </tr>\n",
       "  </tbody>\n",
       "</table>\n",
       "</div>"
      ],
      "text/plain": [
       "           energy_abs                               SMILES cluster_no ccdc_id  \\\n",
       "0  44.925354442201694  COc1ccc(C2OC(=O)C(C)C2(C)CC(C)C)cc1          1      33   \n",
       "1  43.905396003013806  COc1ccc(C2OC(=O)C(C)C2(C)CC(C)C)cc1          2      33   \n",
       "2  44.835954486888966  COc1ccc(C2OC(=O)C(C)C2(C)CC(C)C)cc1          3      33   \n",
       "3   44.16119342798035  COc1ccc(C2OC(=O)C(C)C2(C)CC(C)C)cc1          4      33   \n",
       "4   50.24077902861522  COc1ccc(C2OC(=O)C(C)C2(C)CC(C)C)cc1          5      33   \n",
       "\n",
       "  initial_conformation_id minimize_method      ID  \\\n",
       "0                     260            MMFF  ABABAH   \n",
       "1                     254            MMFF  ABABAH   \n",
       "2                     191            MMFF  ABABAH   \n",
       "3                     278            MMFF  ABABAH   \n",
       "4                     274            MMFF  ABABAH   \n",
       "\n",
       "                                               ROMol  \n",
       "0  <img src=\"data:image/png;base64,iVBORw0KGgoAAA...  \n",
       "1  <img src=\"data:image/png;base64,iVBORw0KGgoAAA...  \n",
       "2  <img src=\"data:image/png;base64,iVBORw0KGgoAAA...  \n",
       "3  <img src=\"data:image/png;base64,iVBORw0KGgoAAA...  \n",
       "4  <img src=\"data:image/png;base64,iVBORw0KGgoAAA...  "
      ]
     },
     "execution_count": 3,
     "metadata": {},
     "output_type": "execute_result"
    }
   ],
   "source": [
    "### Check Attribute\n",
    "conf_1 = PandasTools.LoadSDF(\"../test/confs_smiles/33_confors.sdf\")\n",
    "conf_2 = PandasTools.LoadSDF(\"../test/confs_smiles_withreference/33_confors.sdf\")\n",
    "conf_1.head()\n",
    "conf_2.head()"
   ]
  },
  {
   "cell_type": "code",
   "execution_count": 4,
   "metadata": {
    "ExecuteTime": {
     "end_time": "2019-11-21T22:12:47.008476Z",
     "start_time": "2019-11-21T22:12:46.995071Z"
    }
   },
   "outputs": [
    {
     "data": {
      "text/plain": [
       "0.1510568782980715"
      ]
     },
     "execution_count": 4,
     "metadata": {},
     "output_type": "execute_result"
    },
    {
     "data": {
      "text/plain": [
       "1.1748416601353016"
      ]
     },
     "execution_count": 4,
     "metadata": {},
     "output_type": "execute_result"
    },
    {
     "data": {
      "text/plain": [
       "1.323696229379208"
      ]
     },
     "execution_count": 4,
     "metadata": {},
     "output_type": "execute_result"
    }
   ],
   "source": [
    "### Check RMSD\n",
    "reference_1 = Chem.SDMolSupplier(\"../test/reference_structure/33.sdf\")\n",
    "reference_2 = Chem.SDMolSupplier(\"../test/confs_local_minimization/33_min.sdf\")\n",
    "prob_1 = Chem.SDMolSupplier(\"../test/confs_smiles/33_confors.sdf\")\n",
    "prob_2 = Chem.SDMolSupplier(\"../test/confs_smiles_withreference/33_confors.sdf\")\n",
    "get_RMSD(reference_1[0], reference_2[0])\n",
    "get_RMSD(prob_2[0], reference_2[0])\n",
    "get_RMSD(prob_1[0], reference_2[0])"
   ]
  },
  {
   "cell_type": "code",
   "execution_count": 5,
   "metadata": {
    "ExecuteTime": {
     "end_time": "2019-11-21T22:12:49.010675Z",
     "start_time": "2019-11-21T22:12:48.915063Z"
    },
    "scrolled": true
   },
   "outputs": [
    {
     "data": {
      "application/vnd.jupyter.widget-view+json": {
       "model_id": "b71d9ac892d04814aee633ac8c2eba63",
       "version_major": 2,
       "version_minor": 0
      },
      "text/plain": [
       "NGLWidget()"
      ]
     },
     "metadata": {},
     "output_type": "display_data"
    },
    {
     "data": {
      "application/vnd.jupyter.widget-view+json": {
       "model_id": "9848350a4d33419eae815d8b616bc073",
       "version_major": 2,
       "version_minor": 0
      },
      "text/plain": [
       "NGLWidget()"
      ]
     },
     "metadata": {},
     "output_type": "display_data"
    }
   ],
   "source": [
    "### View Structure: can only show the first one\n",
    "\n",
    "nglview.show_file(\"../test/confs_smiles/33_confors.sdf\")\n",
    "nglview.show_file(\"../test/confs_smiles_withreference/33_confors.sdf\")"
   ]
  },
  {
   "cell_type": "markdown",
   "metadata": {},
   "source": [
    "### Generate Gaussian Input"
   ]
  },
  {
   "cell_type": "code",
   "execution_count": 4,
   "metadata": {
    "ExecuteTime": {
     "end_time": "2019-11-21T19:15:44.584105Z",
     "start_time": "2019-11-21T19:15:44.561705Z"
    }
   },
   "outputs": [],
   "source": [
    "import DataGen\n",
    "from DataGen import genGaus\n",
    "from DataGen.genGaus import file_seperate\n",
    "from DataGen.genGaus import file_transfer\n",
    "from DataGen.genGaus import gaussian_gen"
   ]
  },
  {
   "cell_type": "markdown",
   "metadata": {},
   "source": [
    "#### Generate gaussian input for local minimized structure ( sdf file with only one conformation)"
   ]
  },
  {
   "cell_type": "code",
   "execution_count": 5,
   "metadata": {
    "ExecuteTime": {
     "end_time": "2019-11-21T19:15:46.954532Z",
     "start_time": "2019-11-21T19:15:46.586964Z"
    }
   },
   "outputs": [],
   "source": [
    "index_list = [\"33\"]\n",
    "### if ftype is cry --> *_min.sdf; else: *.sdf \n",
    "ftype = \"cry\"\n",
    "header_file = \"../test/confs_local_minimization/header.txt\"\n",
    "datadir = \"../test/confs_local_minimization/\"\n",
    "file_transfer(index_list, ftype, datadir)\n",
    "gaussian_gen(index_list, header_file, datadir)"
   ]
  },
  {
   "cell_type": "code",
   "execution_count": 7,
   "metadata": {
    "ExecuteTime": {
     "end_time": "2019-11-21T19:18:07.570133Z",
     "start_time": "2019-11-21T19:18:07.543396Z"
    }
   },
   "outputs": [
    {
     "data": {
      "text/plain": [
       "['%NProcShared=1\\n',\n",
       " '%Mem=10GB\\n',\n",
       " '\\n',\n",
       " '#p B3LYP/6-31G* opt freq\\n',\n",
       " '\\n',\n",
       " 'test\\n',\n",
       " '\\n',\n",
       " '0  1\\n',\n",
       " 'O           2.98360         2.50210        13.57860\\n',\n",
       " 'O           3.70340         2.09020        15.70480\\n',\n",
       " 'O           1.49550         1.85930         7.39580\\n',\n",
       " 'C           2.80590         2.35140        14.92170\\n',\n",
       " 'C           1.35720         2.58870        15.26940\\n',\n",
       " 'H           1.27470         3.65490        15.52350\\n',\n",
       " 'C           0.64780         2.31320        13.91390\\n',\n",
       " 'C           1.73970         2.91640        12.99030\\n',\n",
       " 'H           1.73780         4.01420        13.07000\\n',\n",
       " 'C           0.91260         1.77830        16.47680\\n',\n",
       " 'H          -0.17200         1.82760        16.61180\\n',\n",
       " 'H           1.37880         2.17440        17.38630\\n',\n",
       " 'H           1.21720         0.72890        16.40730\\n',\n",
       " 'C          -0.65520         3.11850        13.84360\\n',\n",
       " 'H          -1.37150         2.77230        14.59580\\n',\n",
       " 'H          -1.12780         3.05010        12.85990\\n',\n",
       " 'H          -0.47720         4.18310        14.03520\\n',\n",
       " 'C           0.41010         0.77680        13.70240\\n',\n",
       " 'H          -0.02680         0.34930        14.61200\\n',\n",
       " 'H           1.39140         0.29440        13.60220\\n',\n",
       " 'C          -0.50060         0.32530        12.53220\\n',\n",
       " 'H          -0.46510         1.04390        11.71110\\n',\n",
       " 'C          -1.96470         0.17320        12.96350\\n',\n",
       " 'H          -2.58030        -0.16130        12.12110\\n',\n",
       " 'H          -2.38900         1.11410        13.31900\\n',\n",
       " 'H          -2.06850        -0.56620        13.76530\\n',\n",
       " 'C          -0.01980        -1.02620        11.98790\\n',\n",
       " 'H          -0.64470        -1.35290        11.14980\\n',\n",
       " 'H          -0.05710        -1.80140        12.76120\\n',\n",
       " 'H           1.01060        -0.96160        11.62510\\n',\n",
       " 'C           1.71300         2.59640        11.51360\\n',\n",
       " 'C           0.89520         3.34200        10.65210\\n',\n",
       " 'H           0.28010         4.15330        11.03460\\n',\n",
       " 'C           0.85470         3.05780         9.28440\\n',\n",
       " 'H           0.21200         3.64360         8.63140\\n',\n",
       " 'C           1.63230         2.03250         8.74520\\n',\n",
       " 'C           2.45850         1.29340         9.58910\\n',\n",
       " 'H           3.08630         0.49050         9.21750\\n',\n",
       " 'C           2.49990         1.57560        10.96010\\n',\n",
       " 'H           3.15740         0.98280        11.59400\\n',\n",
       " 'C           2.27700         0.83230         6.79860\\n',\n",
       " 'H           2.05660         0.82520         5.72670\\n',\n",
       " 'H           2.00980        -0.15090         7.19980\\n',\n",
       " 'H           3.34740         1.03100         6.91690\\n',\n",
       " '\\n']"
      ]
     },
     "execution_count": 7,
     "metadata": {},
     "output_type": "execute_result"
    }
   ],
   "source": [
    "### Check the output\n",
    "ginput = open(\"../test/confs_local_minimization/33.opt.com\").readlines()\n",
    "ginput"
   ]
  },
  {
   "cell_type": "markdown",
   "metadata": {},
   "source": [
    "#### Generate gaussian input for conformations"
   ]
  },
  {
   "cell_type": "code",
   "execution_count": 9,
   "metadata": {
    "ExecuteTime": {
     "end_time": "2019-11-21T19:23:44.111962Z",
     "start_time": "2019-11-21T19:23:43.892877Z"
    }
   },
   "outputs": [],
   "source": [
    "infile_list = [\"33_confors.sdf\"]\n",
    "datadir = \"../test/confs_smiles/\"\n",
    "%mkdir \"../test/confs_smiles/ginput\"\n",
    "outdir = \"../test/confs_smiles/ginput/\"\n",
    "### use this initial index, we can reorder all conformations just based on conformation orders\n",
    "initial_index = 0\n",
    "### if initial_index = 0 , the conformations will start from 1 \n",
    "final_index = file_seperate(infile_list, datadir, outdir, initial_index)"
   ]
  },
  {
   "cell_type": "code",
   "execution_count": 10,
   "metadata": {
    "ExecuteTime": {
     "end_time": "2019-11-21T19:24:00.493978Z",
     "start_time": "2019-11-21T19:24:00.467839Z"
    }
   },
   "outputs": [
    {
     "data": {
      "text/plain": [
       "254"
      ]
     },
     "execution_count": 10,
     "metadata": {},
     "output_type": "execute_result"
    }
   ],
   "source": [
    "final_index\n",
    "### this will be next initail_index for next molecule"
   ]
  },
  {
   "cell_type": "code",
   "execution_count": 11,
   "metadata": {
    "ExecuteTime": {
     "end_time": "2019-11-21T19:27:36.400344Z",
     "start_time": "2019-11-21T19:26:25.025091Z"
    }
   },
   "outputs": [],
   "source": [
    "index_list = [i for i in range(1, 255)]\n",
    "### if ftype is cry --> *_min.sdf; else: *.sdf \n",
    "ftype = \"conformations\"\n",
    "header_file = \"../test/confs_local_minimization/header.txt\"\n",
    "datadir = \"../test/confs_smiles/ginput/\"\n",
    "file_transfer(index_list, ftype, datadir)\n",
    "gaussian_gen(index_list, header_file, datadir)"
   ]
  },
  {
   "cell_type": "markdown",
   "metadata": {},
   "source": [
    "**Warning** The file transfer is based on obabel, and it takes some time to finish, and don't do this transfermation for so many conformations at the same time on your own computer, it can cause problem "
   ]
  },
  {
   "cell_type": "code",
   "execution_count": 12,
   "metadata": {
    "ExecuteTime": {
     "end_time": "2019-11-21T19:29:23.193921Z",
     "start_time": "2019-11-21T19:29:23.167535Z"
    }
   },
   "outputs": [
    {
     "data": {
      "text/plain": [
       "['%NProcShared=1\\n',\n",
       " '%Mem=10GB\\n',\n",
       " '\\n',\n",
       " '#p B3LYP/6-31G* opt freq\\n',\n",
       " '\\n',\n",
       " 'test\\n',\n",
       " '\\n',\n",
       " '0  1\\n',\n",
       " 'C           4.98580         2.46560         3.31510\\n',\n",
       " 'O           4.14670         1.34220         3.55200\\n',\n",
       " 'C           3.04200         1.21860         2.75580\\n',\n",
       " 'C           2.23710         0.11500         3.04030\\n',\n",
       " 'C           1.07590        -0.13240         2.30290\\n',\n",
       " 'C           0.69750         0.72070         1.25690\\n',\n",
       " 'C          -0.55890         0.43040         0.45960\\n',\n",
       " 'O          -1.08480         1.62800        -0.12300\\n',\n",
       " 'C          -1.84580         1.29440        -1.20000\\n',\n",
       " 'O          -2.53450         2.09250        -1.81480\\n',\n",
       " 'C          -1.72100        -0.18350        -1.49790\\n',\n",
       " 'C          -1.72730        -0.40950        -3.00500\\n',\n",
       " 'C          -0.44480        -0.57960        -0.72150\\n',\n",
       " 'C           0.84100        -0.32340        -1.53630\\n',\n",
       " 'C          -0.48370        -2.02980        -0.15170\\n',\n",
       " 'C          -0.82270        -3.21680        -1.08040\\n',\n",
       " 'C           0.28920        -3.56740        -2.06790\\n',\n",
       " 'C          -1.11400        -4.45500        -0.21750\\n',\n",
       " 'C           1.51010         1.83130         0.98250\\n',\n",
       " 'C           2.67260         2.07810         1.72340\\n',\n",
       " 'H           5.81060         2.42390         4.03300\\n',\n",
       " 'H           5.41770         2.43040         2.30950\\n',\n",
       " 'H           4.44640         3.40390         3.48200\\n',\n",
       " 'H           2.51580        -0.55780         3.84790\\n',\n",
       " 'H           0.46980        -0.99780         2.56110\\n',\n",
       " 'H          -1.32560         0.10530         1.17810\\n',\n",
       " 'H          -2.59820        -0.66930        -1.05110\\n',\n",
       " 'H          -2.70830        -0.15020        -3.42000\\n',\n",
       " 'H          -0.99570         0.22360        -3.51850\\n',\n",
       " 'H          -1.52970        -1.45020        -3.26730\\n',\n",
       " 'H           0.94930         0.73560        -1.79680\\n',\n",
       " 'H           1.73420        -0.62110        -0.97620\\n',\n",
       " 'H           0.86000        -0.87370        -2.47740\\n',\n",
       " 'H           0.47250        -2.24280         0.34470\\n',\n",
       " 'H          -1.23450        -2.04230         0.65130\\n',\n",
       " 'H          -1.74010        -2.99980        -1.63700\\n',\n",
       " 'H           0.35540        -2.83890        -2.87700\\n',\n",
       " 'H           0.09870        -4.53620        -2.54350\\n',\n",
       " 'H           1.26290        -3.62510        -1.57030\\n',\n",
       " 'H          -1.94360        -4.26500         0.47190\\n',\n",
       " 'H          -0.23790        -4.74150         0.37460\\n',\n",
       " 'H          -1.39610        -5.30920        -0.84250\\n',\n",
       " 'H           1.24480         2.52320         0.18460\\n',\n",
       " 'H           3.26210         2.95170         1.46640\\n',\n",
       " '\\n']"
      ]
     },
     "execution_count": 12,
     "metadata": {},
     "output_type": "execute_result"
    }
   ],
   "source": [
    "### Check the output\n",
    "ginput = open(\"../test/confs_smiles/ginput/1.opt.com\").readlines()\n",
    "ginput"
   ]
  },
  {
   "cell_type": "markdown",
   "metadata": {},
   "source": [
    "### Generate Jobs for HPC"
   ]
  },
  {
   "cell_type": "code",
   "execution_count": 5,
   "metadata": {
    "ExecuteTime": {
     "end_time": "2019-11-21T23:22:56.021085Z",
     "start_time": "2019-11-21T23:22:56.017975Z"
    }
   },
   "outputs": [],
   "source": [
    "import DataGen\n",
    "from DataGen import genjob_hpc\n",
    "from DataGen.genjob_hpc import gen_job\n",
    "from DataGen.genjob_hpc import sub_job\n",
    "from DataGen.genjob_hpc import check_gaussian"
   ]
  },
  {
   "cell_type": "markdown",
   "metadata": {},
   "source": [
    "#### Generate jobs"
   ]
  },
  {
   "cell_type": "code",
   "execution_count": 4,
   "metadata": {
    "ExecuteTime": {
     "end_time": "2019-11-21T23:17:32.074903Z",
     "start_time": "2019-11-21T23:17:31.938854Z"
    }
   },
   "outputs": [
    {
     "data": {
      "text/plain": [
       "[1,\n",
       " 2,\n",
       " 3,\n",
       " 4,\n",
       " 5,\n",
       " 6,\n",
       " 7,\n",
       " 8,\n",
       " 9,\n",
       " 10,\n",
       " 11,\n",
       " 12,\n",
       " 13,\n",
       " 14,\n",
       " 15,\n",
       " 16,\n",
       " 17,\n",
       " 18,\n",
       " 19,\n",
       " 20,\n",
       " 21,\n",
       " 22,\n",
       " 23,\n",
       " 24,\n",
       " 25,\n",
       " 26,\n",
       " 27,\n",
       " 28,\n",
       " 29,\n",
       " 30,\n",
       " 31,\n",
       " 32,\n",
       " 33,\n",
       " 34,\n",
       " 35,\n",
       " 36,\n",
       " 37,\n",
       " 38,\n",
       " 39,\n",
       " 40,\n",
       " 41,\n",
       " 42,\n",
       " 43,\n",
       " 44,\n",
       " 45,\n",
       " 46,\n",
       " 47,\n",
       " 48,\n",
       " 49,\n",
       " 50,\n",
       " 51,\n",
       " 52,\n",
       " 53,\n",
       " 54,\n",
       " 55,\n",
       " 56,\n",
       " 57,\n",
       " 58,\n",
       " 59,\n",
       " 60,\n",
       " 61,\n",
       " 62,\n",
       " 63,\n",
       " 64,\n",
       " 65,\n",
       " 66,\n",
       " 67,\n",
       " 68,\n",
       " 69,\n",
       " 70,\n",
       " 71,\n",
       " 72,\n",
       " 73,\n",
       " 74,\n",
       " 75,\n",
       " 76,\n",
       " 77,\n",
       " 78,\n",
       " 79,\n",
       " 80,\n",
       " 81,\n",
       " 82,\n",
       " 83,\n",
       " 84,\n",
       " 85,\n",
       " 86,\n",
       " 87,\n",
       " 88,\n",
       " 89,\n",
       " 90,\n",
       " 91,\n",
       " 92,\n",
       " 93,\n",
       " 94,\n",
       " 95,\n",
       " 96,\n",
       " 97,\n",
       " 98,\n",
       " 99,\n",
       " 100,\n",
       " 101,\n",
       " 102,\n",
       " 103,\n",
       " 104,\n",
       " 105,\n",
       " 106,\n",
       " 107,\n",
       " 108,\n",
       " 109,\n",
       " 110,\n",
       " 111,\n",
       " 112,\n",
       " 113,\n",
       " 114,\n",
       " 115,\n",
       " 116,\n",
       " 117,\n",
       " 118,\n",
       " 119,\n",
       " 120,\n",
       " 121,\n",
       " 122,\n",
       " 123,\n",
       " 124,\n",
       " 125,\n",
       " 126,\n",
       " 127,\n",
       " 128,\n",
       " 129,\n",
       " 130,\n",
       " 131,\n",
       " 132,\n",
       " 133,\n",
       " 134,\n",
       " 135,\n",
       " 136,\n",
       " 137,\n",
       " 138,\n",
       " 139,\n",
       " 140,\n",
       " 141,\n",
       " 142,\n",
       " 143,\n",
       " 144,\n",
       " 145,\n",
       " 146,\n",
       " 147,\n",
       " 148,\n",
       " 149,\n",
       " 150,\n",
       " 151,\n",
       " 152,\n",
       " 153,\n",
       " 154,\n",
       " 155,\n",
       " 156,\n",
       " 157,\n",
       " 158,\n",
       " 159,\n",
       " 160,\n",
       " 161,\n",
       " 162,\n",
       " 163,\n",
       " 164,\n",
       " 165,\n",
       " 166,\n",
       " 167,\n",
       " 168,\n",
       " 169,\n",
       " 170,\n",
       " 171,\n",
       " 172,\n",
       " 173,\n",
       " 174,\n",
       " 175,\n",
       " 176,\n",
       " 177,\n",
       " 178,\n",
       " 179,\n",
       " 180,\n",
       " 181,\n",
       " 182,\n",
       " 183,\n",
       " 184,\n",
       " 185,\n",
       " 186,\n",
       " 187,\n",
       " 188,\n",
       " 189,\n",
       " 190,\n",
       " 191,\n",
       " 192,\n",
       " 193,\n",
       " 194,\n",
       " 195,\n",
       " 196,\n",
       " 197,\n",
       " 198,\n",
       " 199,\n",
       " 200,\n",
       " 201,\n",
       " 202,\n",
       " 203,\n",
       " 204,\n",
       " 205,\n",
       " 206,\n",
       " 207,\n",
       " 208,\n",
       " 209,\n",
       " 210,\n",
       " 211,\n",
       " 212,\n",
       " 213,\n",
       " 214,\n",
       " 215,\n",
       " 216,\n",
       " 217,\n",
       " 218,\n",
       " 219,\n",
       " 220,\n",
       " 221,\n",
       " 222,\n",
       " 223,\n",
       " 224,\n",
       " 225,\n",
       " 226,\n",
       " 227,\n",
       " 228,\n",
       " 229,\n",
       " 230,\n",
       " 231,\n",
       " 232,\n",
       " 233,\n",
       " 234,\n",
       " 235,\n",
       " 236,\n",
       " 237,\n",
       " 238,\n",
       " 239,\n",
       " 240,\n",
       " 241,\n",
       " 242,\n",
       " 243,\n",
       " 244,\n",
       " 245,\n",
       " 246,\n",
       " 247,\n",
       " 248,\n",
       " 249,\n",
       " 250,\n",
       " 251,\n",
       " 252,\n",
       " 253,\n",
       " 254]"
      ]
     },
     "execution_count": 4,
     "metadata": {},
     "output_type": "execute_result"
    },
    {
     "name": "stdout",
     "output_type": "stream",
     "text": [
      "mkdir: ../test/confs_smiles/gjobs: File exists\r\n"
     ]
    }
   ],
   "source": [
    "index_list = [i for i in range(1,255)]\n",
    "### the number of jobs that have been generated \n",
    "current_jobs = 20\n",
    "index_list\n",
    "%mkdir \"../test/confs_smiles/gjobs\"\n",
    "jobdir = \"../test/confs_smiles/gjobs\"\n",
    "datadir = \"/beegfs/jl7003/1Dto3D_DataGen/test/confs_smiles/ginput\"\n",
    "### the number of calculations in each job\n",
    "num_jobs=10\n",
    "### time requried for each job\n",
    "time=5\n",
    "### memory required for each job\n",
    "mem=10\n",
    "gen_job(index_list, current_jobs, jobdir, datadir,  num_jobs=10, time=5, mem=10)"
   ]
  },
  {
   "cell_type": "markdown",
   "metadata": {},
   "source": [
    "Try different time, memory combination.<br>\n",
    "Notice: in HPC, job has small time and memory requirement don't need to wait for lone time. For large molecule, such as molecule with 20 heavy atoms, you need only contain one molecule in the job. For small molecule, such as molecule with 10 heavy atoms, you can make more than one molecule in the job."
   ]
  },
  {
   "cell_type": "markdown",
   "metadata": {},
   "source": [
    "#### Submit jobs"
   ]
  },
  {
   "cell_type": "code",
   "execution_count": 6,
   "metadata": {
    "ExecuteTime": {
     "end_time": "2019-11-21T21:51:42.100006Z",
     "start_time": "2019-11-21T21:51:42.059337Z"
    }
   },
   "outputs": [],
   "source": [
    "### Submit jobs\n",
    "job_list = [i for i in range(1,24)]\n",
    "jobdir = \"../test/confs_smiles/gjobs\"\n",
    "### job range is determined by id1 and id2 \n",
    "id1 = 0\n",
    "id2 = 2\n",
    "sub_job(job_list, id1, id2)"
   ]
  },
  {
   "cell_type": "markdown",
   "metadata": {},
   "source": [
    "In HPC, we can at most submit 1000 jobs, but only 200 jobs can run at the same time."
   ]
  },
  {
   "cell_type": "markdown",
   "metadata": {},
   "source": [
    "#### Check output: error or normal"
   ]
  },
  {
   "cell_type": "code",
   "execution_count": 6,
   "metadata": {
    "ExecuteTime": {
     "end_time": "2019-11-21T23:23:05.500730Z",
     "start_time": "2019-11-21T23:23:05.497425Z"
    }
   },
   "outputs": [
    {
     "name": "stdout",
     "output_type": "stream",
     "text": [
      "Help on function check_gaussian in module DataGen.genjob_hpc:\n",
      "\n",
      "check_gaussian(index_list, datadir)\n",
      "    Check whether the gaussian calculation finishes normally\n",
      "\n"
     ]
    }
   ],
   "source": [
    "help(check_gaussian)"
   ]
  },
  {
   "cell_type": "code",
   "execution_count": 9,
   "metadata": {
    "ExecuteTime": {
     "end_time": "2019-11-21T23:26:24.437461Z",
     "start_time": "2019-11-21T23:26:24.430055Z"
    }
   },
   "outputs": [],
   "source": [
    "### Here, we used the log file from 33_min.sdf as an example\n",
    "### The file is 33.opt.log in ../test/confs_local_minimization\n",
    "### Gaussian_error.csv will be saved in current dir\n",
    "index_list = [\"33\"]\n",
    "datadir = \"../test/confs_local_minimization/\"\n",
    "check_gaussian(index_list, datadir)"
   ]
  },
  {
   "cell_type": "code",
   "execution_count": 11,
   "metadata": {
    "ExecuteTime": {
     "end_time": "2019-11-21T23:26:34.587682Z",
     "start_time": "2019-11-21T23:26:34.584704Z"
    }
   },
   "outputs": [],
   "source": [
    "error = open(\"Gaussian_error.csv\").readline()"
   ]
  },
  {
   "cell_type": "code",
   "execution_count": 12,
   "metadata": {
    "ExecuteTime": {
     "end_time": "2019-11-21T23:26:36.568653Z",
     "start_time": "2019-11-21T23:26:36.564967Z"
    }
   },
   "outputs": [
    {
     "data": {
      "text/plain": [
       "''"
      ]
     },
     "execution_count": 12,
     "metadata": {},
     "output_type": "execute_result"
    }
   ],
   "source": [
    "error"
   ]
  },
  {
   "cell_type": "markdown",
   "metadata": {},
   "source": [
    "Since our calculation finishes normally, there is no record in error file "
   ]
  },
  {
   "cell_type": "markdown",
   "metadata": {},
   "source": [
    "### Analysis"
   ]
  },
  {
   "cell_type": "code",
   "execution_count": 3,
   "metadata": {
    "ExecuteTime": {
     "end_time": "2019-11-21T23:45:01.457725Z",
     "start_time": "2019-11-21T23:45:01.434346Z"
    }
   },
   "outputs": [],
   "source": [
    "import DataGen\n",
    "from DataGen import analysis\n",
    "from DataGen.analysis import convert_tosdf\n",
    "from DataGen.analysis import getInfor"
   ]
  },
  {
   "cell_type": "markdown",
   "metadata": {},
   "source": [
    "Here, we conducted consistency check, to see if our initial SMILES, MMFF optimized structure, and QM optimized structure are consistent"
   ]
  },
  {
   "cell_type": "markdown",
   "metadata": {},
   "source": [
    "#### Consistency Check "
   ]
  },
  {
   "cell_type": "code",
   "execution_count": 16,
   "metadata": {
    "ExecuteTime": {
     "end_time": "2019-11-21T23:36:08.603335Z",
     "start_time": "2019-11-21T23:36:08.282514Z"
    }
   },
   "outputs": [],
   "source": [
    "### first, we need to convert Gaussian output into sdf \n",
    "datadir = \"../test/confs_local_minimization/\"\n",
    "index = \"33\"\n",
    "### if a output file can't be converted back into sdf file, we should remove it \n",
    "convert_tosdf(datadir, index)"
   ]
  },
  {
   "cell_type": "code",
   "execution_count": 26,
   "metadata": {
    "ExecuteTime": {
     "end_time": "2019-11-22T00:08:22.699766Z",
     "start_time": "2019-11-22T00:08:22.677790Z"
    }
   },
   "outputs": [],
   "source": [
    "infile1 = \"COc1ccc(C2OC(=O)C(C)C2(C)CC(C)C)cc1\"\n",
    "infile2 = \"../test/confs_local_minimization/33_min.sdf\"\n",
    "infile3 = \"../test/confs_local_minimization/33.opt.sdf\"\n",
    "### here, we consider SMILES with no stereochemistry\n",
    "isomericSmiles = False\n",
    "infile = getInfor(infile1, infile2, infile3, isomericSmiles)\n"
   ]
  },
  {
   "cell_type": "code",
   "execution_count": 28,
   "metadata": {
    "ExecuteTime": {
     "end_time": "2019-11-22T00:08:29.185272Z",
     "start_time": "2019-11-22T00:08:29.156702Z"
    }
   },
   "outputs": [
    {
     "data": {
      "text/html": [
       "<div>\n",
       "<style scoped>\n",
       "    .dataframe tbody tr th:only-of-type {\n",
       "        vertical-align: middle;\n",
       "    }\n",
       "\n",
       "    .dataframe tbody tr th {\n",
       "        vertical-align: top;\n",
       "    }\n",
       "\n",
       "    .dataframe thead th {\n",
       "        text-align: right;\n",
       "    }\n",
       "</style>\n",
       "<table border=\"1\" class=\"dataframe\">\n",
       "  <thead>\n",
       "    <tr style=\"text-align: right;\">\n",
       "      <th></th>\n",
       "      <th>SMILES</th>\n",
       "      <th>initial_InChI</th>\n",
       "      <th>initial_SMILES</th>\n",
       "      <th>MMFF_InChI</th>\n",
       "      <th>MMFF_SMILES</th>\n",
       "      <th>QM_InChI</th>\n",
       "      <th>QM_SMILES</th>\n",
       "    </tr>\n",
       "  </thead>\n",
       "  <tbody>\n",
       "    <tr>\n",
       "      <td>0</td>\n",
       "      <td>COc1ccc(C2OC(=O)C(C)C2(C)CC(C)C)cc1</td>\n",
       "      <td>InChI=1S/C17H24O3/c1-11(2)10-17(4)12(3)16(18)2...</td>\n",
       "      <td>COc1ccc(C2OC(=O)C(C)C2(C)CC(C)C)cc1</td>\n",
       "      <td>InChI=1S/C17H24O3/c1-11(2)10-17(4)12(3)16(18)2...</td>\n",
       "      <td>COc1ccc(C2OC(=O)C(C)C2(C)CC(C)C)cc1</td>\n",
       "      <td>InChI=1S/C17H24O3/c1-11(2)10-17(4)12(3)16(18)2...</td>\n",
       "      <td>COc1ccc(C2OC(=O)C(C)C2(C)CC(C)C)cc1</td>\n",
       "    </tr>\n",
       "  </tbody>\n",
       "</table>\n",
       "</div>"
      ],
      "text/plain": [
       "                                SMILES  \\\n",
       "0  COc1ccc(C2OC(=O)C(C)C2(C)CC(C)C)cc1   \n",
       "\n",
       "                                       initial_InChI  \\\n",
       "0  InChI=1S/C17H24O3/c1-11(2)10-17(4)12(3)16(18)2...   \n",
       "\n",
       "                        initial_SMILES  \\\n",
       "0  COc1ccc(C2OC(=O)C(C)C2(C)CC(C)C)cc1   \n",
       "\n",
       "                                          MMFF_InChI  \\\n",
       "0  InChI=1S/C17H24O3/c1-11(2)10-17(4)12(3)16(18)2...   \n",
       "\n",
       "                           MMFF_SMILES  \\\n",
       "0  COc1ccc(C2OC(=O)C(C)C2(C)CC(C)C)cc1   \n",
       "\n",
       "                                            QM_InChI  \\\n",
       "0  InChI=1S/C17H24O3/c1-11(2)10-17(4)12(3)16(18)2...   \n",
       "\n",
       "                             QM_SMILES  \n",
       "0  COc1ccc(C2OC(=O)C(C)C2(C)CC(C)C)cc1  "
      ]
     },
     "execution_count": 28,
     "metadata": {},
     "output_type": "execute_result"
    }
   ],
   "source": [
    "infor_df = pd.DataFrame(columns=infile.inforname, data=[infile.infor])\n",
    "infor_df\n",
    "infor_df.to_csv(\"Infor_noisomeric.csv\", index=None)"
   ]
  },
  {
   "cell_type": "code",
   "execution_count": 29,
   "metadata": {
    "ExecuteTime": {
     "end_time": "2019-11-22T00:08:30.320439Z",
     "start_time": "2019-11-22T00:08:30.296315Z"
    }
   },
   "outputs": [
    {
     "data": {
      "text/plain": [
       "array([ True])"
      ]
     },
     "execution_count": 29,
     "metadata": {},
     "output_type": "execute_result"
    },
    {
     "data": {
      "text/plain": [
       "array([ True])"
      ]
     },
     "execution_count": 29,
     "metadata": {},
     "output_type": "execute_result"
    }
   ],
   "source": [
    "### Check MMFF and QM \n",
    "infor_df[\"MMFF_InChI\"].values == infor_df[\"QM_InChI\"].values\n",
    "infor_df[\"MMFF_SMILES\"].values == infor_df[\"QM_SMILES\"].values"
   ]
  },
  {
   "cell_type": "markdown",
   "metadata": {},
   "source": [
    "This conformation passed the consistency check "
   ]
  },
  {
   "cell_type": "markdown",
   "metadata": {
    "ExecuteTime": {
     "end_time": "2019-11-22T00:09:38.465395Z",
     "start_time": "2019-11-22T00:09:38.442908Z"
    }
   },
   "source": [
    "After QM calculation, detailed check can be condected including redudency check and consistency check, which will be futher organized into script"
   ]
  },
  {
   "cell_type": "markdown",
   "metadata": {},
   "source": [
    "### Prepare dataset"
   ]
  },
  {
   "cell_type": "code",
   "execution_count": 2,
   "metadata": {
    "ExecuteTime": {
     "end_time": "2019-11-22T01:19:24.504685Z",
     "start_time": "2019-11-22T01:19:24.441058Z"
    }
   },
   "outputs": [],
   "source": [
    "import DataGen\n",
    "from DataGen import prepare_data\n",
    "from DataGen.prepare_data import prepare_data\n",
    "from DataGen.prepare_data import prepre_PhysNet_input\n",
    "from DataGen.prepare_data import prepare_torch\n",
    "from DataGen.prepare_data import prepare_target_csv"
   ]
  },
  {
   "cell_type": "code",
   "execution_count": 3,
   "metadata": {
    "ExecuteTime": {
     "end_time": "2019-11-22T01:19:24.916460Z",
     "start_time": "2019-11-22T01:19:24.906877Z"
    }
   },
   "outputs": [],
   "source": [
    "datadir = \"../test/confs_local_minimization/\"\n",
    "reference = \"../test/reference_method/atomref.B3LYP_631Gd.10As.npz\"\n",
    "index_list = [\"33\"]\n",
    "ftype = \"cry\"\n",
    "exp = prepare_data(index_list[0], datadir, reference, ftype)"
   ]
  },
  {
   "cell_type": "markdown",
   "metadata": {},
   "source": [
    "prepare_data returns a object with all informations you need to prepare a dataset"
   ]
  },
  {
   "cell_type": "code",
   "execution_count": 4,
   "metadata": {
    "ExecuteTime": {
     "end_time": "2019-11-22T01:19:26.434161Z",
     "start_time": "2019-11-22T01:19:26.420227Z"
    }
   },
   "outputs": [
    {
     "data": {
      "text/plain": [
       "{'H': 1,\n",
       " 'B': 5,\n",
       " 'C': 6,\n",
       " 'N': 7,\n",
       " 'O': 8,\n",
       " 'F': 9,\n",
       " 'P': 15,\n",
       " 'S': 16,\n",
       " 'Cl': 17,\n",
       " 'Br': 35}"
      ]
     },
     "execution_count": 4,
     "metadata": {},
     "output_type": "execute_result"
    },
    {
     "data": {
      "text/plain": [
       "{'H': [1, 1],\n",
       " 'B': [2, 3],\n",
       " 'C': [2, 4],\n",
       " 'N': [2, 5],\n",
       " 'O': [2, 6],\n",
       " 'F': [2, 7],\n",
       " 'P': [3, 5],\n",
       " 'S': [3, 6],\n",
       " 'Cl': [3, 7],\n",
       " 'Br': [4, 7]}"
      ]
     },
     "execution_count": 4,
     "metadata": {},
     "output_type": "execute_result"
    },
    {
     "data": {
      "text/plain": [
       "[1.0,\n",
       " 1.0,\n",
       " 1.0,\n",
       " 1.0,\n",
       " 1.0,\n",
       " 27.211386024367243,\n",
       " 27.211386024367243,\n",
       " 27.211386024367243,\n",
       " 1.0,\n",
       " 27.211386024367243,\n",
       " 27.211386024367243,\n",
       " 27.211386024367243,\n",
       " 27.211386024367243,\n",
       " 27.211386024367243,\n",
       " 1.0,\n",
       " 27.211386024367243]"
      ]
     },
     "execution_count": 4,
     "metadata": {},
     "output_type": "execute_result"
    },
    {
     "data": {
      "text/plain": [
       "array([  0.        , -13.61312172, -13.5745904 , -13.54887564,\n",
       "       -13.90303183,   2.981     ])"
      ]
     },
     "execution_count": 4,
     "metadata": {},
     "output_type": "execute_result"
    }
   ],
   "source": [
    "exp.elementdict\n",
    "exp.elementdict_periodic\n",
    "exp.conversions\n",
    "exp.reference[1]"
   ]
  },
  {
   "cell_type": "code",
   "execution_count": 5,
   "metadata": {
    "ExecuteTime": {
     "end_time": "2019-11-22T01:19:27.521621Z",
     "start_time": "2019-11-22T01:19:27.516137Z"
    }
   },
   "outputs": [
    {
     "data": {
      "text/plain": [
       "<rdkit.Chem.rdchem.Mol at 0x623363670>"
      ]
     },
     "execution_count": 5,
     "metadata": {},
     "output_type": "execute_result"
    },
    {
     "data": {
      "text/plain": [
       "<rdkit.Chem.rdchem.Mol at 0x6233636c0>"
      ]
     },
     "execution_count": 5,
     "metadata": {},
     "output_type": "execute_result"
    }
   ],
   "source": [
    "exp.QMmol\n",
    "exp.MMFFmol"
   ]
  },
  {
   "cell_type": "code",
   "execution_count": 6,
   "metadata": {
    "ExecuteTime": {
     "end_time": "2019-11-22T01:19:28.028559Z",
     "start_time": "2019-11-22T01:19:28.024929Z"
    }
   },
   "outputs": [
    {
     "data": {
      "text/plain": [
       "44"
      ]
     },
     "execution_count": 6,
     "metadata": {},
     "output_type": "execute_result"
    }
   ],
   "source": [
    "exp.natoms"
   ]
  },
  {
   "cell_type": "code",
   "execution_count": 7,
   "metadata": {
    "ExecuteTime": {
     "end_time": "2019-11-22T01:11:36.441993Z",
     "start_time": "2019-11-22T01:11:36.433778Z"
    }
   },
   "outputs": [
    {
     "data": {
      "text/plain": [
       "[-0.481708,\n",
       " -0.480974,\n",
       " -0.507588,\n",
       " 0.639258,\n",
       " -0.202483,\n",
       " 0.1642,\n",
       " 0.065918,\n",
       " 0.065322,\n",
       " 0.140988,\n",
       " -0.453908,\n",
       " 0.146038,\n",
       " 0.166539,\n",
       " 0.163978,\n",
       " -0.480721,\n",
       " 0.155661,\n",
       " 0.160389,\n",
       " 0.138807,\n",
       " -0.296947,\n",
       " 0.145274,\n",
       " 0.144663,\n",
       " -0.071655,\n",
       " 0.14808,\n",
       " -0.450827,\n",
       " 0.140908,\n",
       " 0.142458,\n",
       " 0.137824,\n",
       " -0.449385,\n",
       " 0.138499,\n",
       " 0.137223,\n",
       " 0.143784,\n",
       " 0.123667,\n",
       " -0.186025,\n",
       " 0.131086,\n",
       " -0.180072,\n",
       " 0.140842,\n",
       " 0.384828,\n",
       " -0.199035,\n",
       " 0.137132,\n",
       " -0.177787,\n",
       " 0.154742,\n",
       " -0.219045,\n",
       " 0.170052,\n",
       " 0.154147,\n",
       " 0.155852]"
      ]
     },
     "execution_count": 7,
     "metadata": {},
     "output_type": "execute_result"
    }
   ],
   "source": [
    "exp.charges_mulliken"
   ]
  },
  {
   "cell_type": "code",
   "execution_count": 7,
   "metadata": {
    "ExecuteTime": {
     "end_time": "2019-11-22T01:19:31.530306Z",
     "start_time": "2019-11-22T01:19:31.521282Z"
    }
   },
   "outputs": [
    {
     "data": {
      "text/plain": [
       "[[-1.2987, -1.9824, -0.2864],\n",
       " [-3.2344, -2.4613, -1.332],\n",
       " [4.765, -0.1745, 0.3102],\n",
       " [-2.6252, -1.7905, -0.5386],\n",
       " [-3.1304, -0.6465, 0.3293],\n",
       " [-3.4196, -1.1162, 1.2844],\n",
       " [-1.8311, 0.1718, 0.6188],\n",
       " [-0.8411, -1.0468, 0.7231],\n",
       " [-1.017, -1.5183, 1.7018],\n",
       " [-4.3652, 0.0414, -0.2493],\n",
       " [-4.6902, 0.8716, 0.3873],\n",
       " [-5.1845, -0.6802, -0.3184],\n",
       " [-4.1879, 0.4254, -1.2576],\n",
       " [-1.9308, 0.9141, 1.9558],\n",
       " [-2.7123, 1.681, 1.921],\n",
       " [-0.9912, 1.4091, 2.2192],\n",
       " [-2.1837, 0.2214, 2.7682],\n",
       " [-1.5083, 1.1077, -0.5798],\n",
       " [-2.4298, 1.6347, -0.8555],\n",
       " [-1.2713, 0.4679, -1.4399],\n",
       " [-0.393, 2.1809, -0.4363],\n",
       " [0.3808, 1.8132, 0.2467],\n",
       " [-0.9272, 3.5171, 0.11],\n",
       " [-0.1163, 4.2499, 0.1989],\n",
       " [-1.3916, 3.4183, 1.0954],\n",
       " [-1.6791, 3.9386, -0.5705],\n",
       " [0.2731, 2.4217, -1.8016],\n",
       " [1.0415, 3.201, -1.7338],\n",
       " [-0.4656, 2.7483, -2.5458],\n",
       " [0.7504, 1.5104, -2.1776],\n",
       " [0.6442, -0.8326, 0.5644],\n",
       " [1.4164, -0.4506, 1.6737],\n",
       " [0.9433, -0.3306, 2.6458],\n",
       " [2.7821, -0.2294, 1.5582],\n",
       " [3.3801, 0.0667, 2.4143],\n",
       " [3.4211, -0.4087, 0.3219],\n",
       " [2.6713, -0.8185, -0.786],\n",
       " [3.1424, -0.9884, -1.7474],\n",
       " [1.2951, -1.0259, -0.6558],\n",
       " [0.7266, -1.3678, -1.5141],\n",
       " [5.4677, -0.3573, -0.9091],\n",
       " [6.5104, -0.1183, -0.692],\n",
       " [5.0972, 0.3159, -1.6935],\n",
       " [5.3997, -1.3946, -1.2628]]"
      ]
     },
     "execution_count": 7,
     "metadata": {},
     "output_type": "execute_result"
    },
    {
     "data": {
      "text/plain": [
       "[[2.9836, 2.5021, 13.5786],\n",
       " [3.7034, 2.0902, 15.7048],\n",
       " [1.4955, 1.8593, 7.3958],\n",
       " [2.8059, 2.3514, 14.9217],\n",
       " [1.3572, 2.5887, 15.2694],\n",
       " [1.2747, 3.6549, 15.5235],\n",
       " [0.6478, 2.3132, 13.9139],\n",
       " [1.7397, 2.9164, 12.9903],\n",
       " [1.7378, 4.0142, 13.07],\n",
       " [0.9126, 1.7783, 16.4768],\n",
       " [-0.172, 1.8276, 16.6118],\n",
       " [1.3788, 2.1744, 17.3863],\n",
       " [1.2172, 0.7289, 16.4073],\n",
       " [-0.6552, 3.1185, 13.8436],\n",
       " [-1.3715, 2.7723, 14.5958],\n",
       " [-1.1278, 3.0501, 12.8599],\n",
       " [-0.4772, 4.1831, 14.0352],\n",
       " [0.4101, 0.7768, 13.7024],\n",
       " [-0.0268, 0.3493, 14.612],\n",
       " [1.3914, 0.2944, 13.6022],\n",
       " [-0.5006, 0.3253, 12.5322],\n",
       " [-0.4651, 1.0439, 11.7111],\n",
       " [-1.9647, 0.1732, 12.9635],\n",
       " [-2.5803, -0.1613, 12.1211],\n",
       " [-2.389, 1.1141, 13.319],\n",
       " [-2.0685, -0.5662, 13.7653],\n",
       " [-0.0198, -1.0262, 11.9879],\n",
       " [-0.6447, -1.3529, 11.1498],\n",
       " [-0.0571, -1.8014, 12.7612],\n",
       " [1.0106, -0.9616, 11.6251],\n",
       " [1.713, 2.5964, 11.5136],\n",
       " [0.8952, 3.342, 10.6521],\n",
       " [0.2801, 4.1533, 11.0346],\n",
       " [0.8547, 3.0578, 9.2844],\n",
       " [0.212, 3.6436, 8.6314],\n",
       " [1.6323, 2.0325, 8.7452],\n",
       " [2.4585, 1.2934, 9.5891],\n",
       " [3.0863, 0.4905, 9.2175],\n",
       " [2.4999, 1.5756, 10.9601],\n",
       " [3.1574, 0.9828, 11.594],\n",
       " [2.277, 0.8323, 6.7986],\n",
       " [2.0566, 0.8252, 5.7267],\n",
       " [2.0098, -0.1509, 7.1998],\n",
       " [3.3474, 1.031, 6.9169]]"
      ]
     },
     "execution_count": 7,
     "metadata": {},
     "output_type": "execute_result"
    }
   ],
   "source": [
    "exp.QMcoords\n",
    "exp.MMFFcoords"
   ]
  },
  {
   "cell_type": "code",
   "execution_count": 8,
   "metadata": {
    "ExecuteTime": {
     "end_time": "2019-11-22T01:19:32.648844Z",
     "start_time": "2019-11-22T01:19:32.645115Z"
    }
   },
   "outputs": [
    {
     "data": {
      "text/plain": [
       "[8,\n",
       " 8,\n",
       " 8,\n",
       " 6,\n",
       " 6,\n",
       " 1,\n",
       " 6,\n",
       " 6,\n",
       " 1,\n",
       " 6,\n",
       " 1,\n",
       " 1,\n",
       " 1,\n",
       " 6,\n",
       " 1,\n",
       " 1,\n",
       " 1,\n",
       " 6,\n",
       " 1,\n",
       " 1,\n",
       " 6,\n",
       " 1,\n",
       " 6,\n",
       " 1,\n",
       " 1,\n",
       " 1,\n",
       " 6,\n",
       " 1,\n",
       " 1,\n",
       " 1,\n",
       " 6,\n",
       " 6,\n",
       " 1,\n",
       " 6,\n",
       " 1,\n",
       " 6,\n",
       " 6,\n",
       " 1,\n",
       " 6,\n",
       " 1,\n",
       " 6,\n",
       " 1,\n",
       " 1,\n",
       " 1]"
      ]
     },
     "execution_count": 8,
     "metadata": {},
     "output_type": "execute_result"
    }
   ],
   "source": [
    "exp.elements"
   ]
  },
  {
   "cell_type": "code",
   "execution_count": 9,
   "metadata": {
    "ExecuteTime": {
     "end_time": "2019-11-22T01:19:33.099426Z",
     "start_time": "2019-11-22T01:19:33.094883Z"
    }
   },
   "outputs": [
    {
     "data": {
      "text/plain": [
       "[[2, 6],\n",
       " [2, 6],\n",
       " [2, 6],\n",
       " [2, 4],\n",
       " [2, 4],\n",
       " [1, 1],\n",
       " [2, 4],\n",
       " [2, 4],\n",
       " [1, 1],\n",
       " [2, 4],\n",
       " [1, 1],\n",
       " [1, 1],\n",
       " [1, 1],\n",
       " [2, 4],\n",
       " [1, 1],\n",
       " [1, 1],\n",
       " [1, 1],\n",
       " [2, 4],\n",
       " [1, 1],\n",
       " [1, 1],\n",
       " [2, 4],\n",
       " [1, 1],\n",
       " [2, 4],\n",
       " [1, 1],\n",
       " [1, 1],\n",
       " [1, 1],\n",
       " [2, 4],\n",
       " [1, 1],\n",
       " [1, 1],\n",
       " [1, 1],\n",
       " [2, 4],\n",
       " [2, 4],\n",
       " [1, 1],\n",
       " [2, 4],\n",
       " [1, 1],\n",
       " [2, 4],\n",
       " [2, 4],\n",
       " [1, 1],\n",
       " [2, 4],\n",
       " [1, 1],\n",
       " [2, 4],\n",
       " [1, 1],\n",
       " [1, 1],\n",
       " [1, 1]]"
      ]
     },
     "execution_count": 9,
     "metadata": {},
     "output_type": "execute_result"
    }
   ],
   "source": [
    "exp.elements_p"
   ]
  },
  {
   "cell_type": "code",
   "execution_count": 10,
   "metadata": {
    "ExecuteTime": {
     "end_time": "2019-11-22T01:19:34.445920Z",
     "start_time": "2019-11-22T01:19:34.414550Z"
    }
   },
   "outputs": [
    {
     "data": {
      "text/plain": [
       "[0.54211,\n",
       " 0.21322,\n",
       " 0.18612,\n",
       " 3.7715,\n",
       " 181.74,\n",
       " -0.00816,\n",
       " -0.21982,\n",
       " 0.21166,\n",
       " 6314.4973,\n",
       " 0.383215,\n",
       " -887.559757,\n",
       " -887.539494,\n",
       " -887.538549,\n",
       " -887.607685,\n",
       " 78.479,\n",
       " -887.942971468]"
      ]
     },
     "execution_count": 10,
     "metadata": {},
     "output_type": "execute_result"
    }
   ],
   "source": [
    "exp.init_target"
   ]
  },
  {
   "cell_type": "code",
   "execution_count": 11,
   "metadata": {
    "ExecuteTime": {
     "end_time": "2019-11-22T01:19:34.974035Z",
     "start_time": "2019-11-22T01:19:34.969983Z"
    }
   },
   "outputs": [
    {
     "data": {
      "text/plain": [
       "[0.54211,\n",
       " 0.21322,\n",
       " 0.18612,\n",
       " 3.7715,\n",
       " 181.74,\n",
       " -0.22204490995883672,\n",
       " -5.981606875876407,\n",
       " 5.7595619659175705,\n",
       " 6314.4973,\n",
       " 10.427811295327892,\n",
       " -24151.731167420585,\n",
       " -24151.179783105574,\n",
       " -24151.154068345782,\n",
       " -24153.03535472996,\n",
       " 78.479,\n",
       " -24162.158964239457,\n",
       " -190.05999375252213,\n",
       " -191.20398763237972,\n",
       " -192.30917807576407,\n",
       " -176.45685861063248]"
      ]
     },
     "execution_count": 11,
     "metadata": {},
     "output_type": "execute_result"
    }
   ],
   "source": [
    "exp.target"
   ]
  },
  {
   "cell_type": "code",
   "execution_count": null,
   "metadata": {},
   "outputs": [],
   "source": []
  }
 ],
 "metadata": {
  "kernelspec": {
   "display_name": "Python 3",
   "language": "python",
   "name": "python3"
  },
  "language_info": {
   "codemirror_mode": {
    "name": "ipython",
    "version": 3
   },
   "file_extension": ".py",
   "mimetype": "text/x-python",
   "name": "python",
   "nbconvert_exporter": "python",
   "pygments_lexer": "ipython3",
   "version": "3.7.3"
  },
  "toc": {
   "colors": {
    "hover_highlight": "#DAA520",
    "navigate_num": "#000000",
    "navigate_text": "#333333",
    "running_highlight": "#FF0000",
    "selected_highlight": "#FFD700",
    "sidebar_border": "#EEEEEE",
    "wrapper_background": "#FFFFFF"
   },
   "moveMenuLeft": true,
   "nav_menu": {
    "height": "30px",
    "width": "252px"
   },
   "navigate_menu": true,
   "number_sections": true,
   "sideBar": true,
   "skip_h1_title": false,
   "threshold": 4,
   "toc_cell": false,
   "toc_section_display": "block",
   "toc_window_display": false,
   "widenNotebook": false
  }
 },
 "nbformat": 4,
 "nbformat_minor": 2
}
